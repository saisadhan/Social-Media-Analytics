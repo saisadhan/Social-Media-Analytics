{
 "cells": [
  {
   "cell_type": "code",
   "execution_count": null,
   "id": "b435010a",
   "metadata": {},
   "outputs": [],
   "source": [
    "pip install langchain\n",
    "\n",
    "import pandas as pd\n",
    "\n",
    "# Load the data\n",
    "data = pd.read_csv(r'C:\\Users\\saisa\\Downloads\\CIS 518 Big Data\\Group Project\\all-csv-files-after-clove.csv')\n",
    "\n",
    "# Check for NA or NaN values in 'MsgBody' column\n",
    "na_mask = data['MsgBody'].isna()\n",
    "\n",
    "# Filter out NA or NaN values\n",
    "data = data[~na_mask]\n",
    "\n",
    "# Apply the filter for 'clove' substring\n",
    "data = data[data['MsgBody'].str.contains('clove', case=False)]\n",
    "\n",
    "# Check the shape of filtered data\n",
    "print(data.shape)\n",
    "\n",
    "from langchain_community.llms import Ollama\n",
    "\n",
    "llm = Ollama(model=\"llama2\")\n",
    "\n",
    "def analyze_sentiment(text):\n",
    "    return llm.invoke(text)\n",
    "\n",
    "predictions = []\n",
    "for _, row in data.iterrows():\n",
    "    text = 'Analyze the sentiment and answer in one word positive or negative jsut one word ' + row['MsgBody']\n",
    "    sentiment = str(analyze_sentiment(text))\n",
    "    predictions.append(sentiment)\n",
    "    \n",
    "\n",
    "result = pd.DataFrame({'Text': data['MsgBody'], 'Label': predictions})\n",
    "result.to_csv('llm_predictions-after-clove.csv', index=False)"
   ]
  }
 ],
 "metadata": {
  "kernelspec": {
   "display_name": "Python 3 (ipykernel)",
   "language": "python",
   "name": "python3"
  },
  "language_info": {
   "codemirror_mode": {
    "name": "ipython",
    "version": 3
   },
   "file_extension": ".py",
   "mimetype": "text/x-python",
   "name": "python",
   "nbconvert_exporter": "python",
   "pygments_lexer": "ipython3",
   "version": "3.11.5"
  }
 },
 "nbformat": 4,
 "nbformat_minor": 5
}
